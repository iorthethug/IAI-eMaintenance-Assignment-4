{
 "cells": [
  {
   "cell_type": "code",
   "execution_count": 1,
   "metadata": {},
   "outputs": [],
   "source": [
    "import pandas as pd\n",
    "import numpy as np\n",
    "import matplotlib as plt\n",
    "from sklearn import preprocessing"
   ]
  },
  {
   "cell_type": "code",
   "execution_count": null,
   "metadata": {},
   "outputs": [],
   "source": [
    "# Data Preprocessing\n",
    "data_trail1 = pd.read_csv(\"Trail1_extracted_features_acceleration_m1ai1-2.csv\")\n",
    "data_trail2 = pd.read_csv(\"Trail2_extracted_features_acceleration_m1ai1-1.csv\")\n",
    "data_trail3 = pd.read_csv(\"Trail3_extracted_features_acceleration_m2ai0-1.csv\")\n",
    "\n",
    "df  = pd.concat([data_trail1,data_trail2,data_trail3], ignore_index=True)\n",
    "\n",
    "df.drop(columns=[\"start_time\", \"axle\", \"cluster\", \"tsne_1\", \"tsne_2\",], inplace=True)\n",
    "\n",
    "df[\"event\"] = df[\"event\"].apply(lambda x : 1 if x == \"normal\" else 0)"
   ]
  },
  {
   "cell_type": "code",
   "execution_count": null,
   "metadata": {},
   "outputs": [
    {
     "name": "stdout",
     "output_type": "stream",
     "text": [
      "             mean           std       max           min     range  \\\n",
      "0   -7.224506e-10  2.046288e-07  0.000001 -9.382634e-07  0.000002   \n",
      "1   -1.926502e-09  8.495266e-06  0.000075 -8.686790e-05  0.000162   \n",
      "2    5.290685e-09  1.008559e-06  0.000004 -4.887409e-06  0.000009   \n",
      "3    5.217376e-08  1.868642e-05  0.000233 -2.262712e-04  0.000459   \n",
      "4   -1.961913e-07  1.069893e-05  0.000033 -5.626494e-05  0.000089   \n",
      "..            ...           ...       ...           ...       ...   \n",
      "145  3.260127e-08  3.194933e-06  0.000009 -1.356323e-05  0.000022   \n",
      "146 -5.143785e-09  2.451955e-06  0.000019 -1.354632e-05  0.000032   \n",
      "147  1.163203e-10  1.008091e-06  0.000003 -4.161629e-06  0.000008   \n",
      "148 -3.566081e-09  5.450296e-07  0.000002 -2.230301e-06  0.000004   \n",
      "149  9.639884e-10  3.609248e-07  0.000002 -1.788247e-06  0.000003   \n",
      "\n",
      "         skewness  kurtosis           rms  crest_factor      variance  \\\n",
      "0   -7.258889e-07  0.000072  2.046301e-07      0.000847  2.762046e-10   \n",
      "1   -1.280454e-05  0.009304  8.495266e-06      0.003080  2.069453e-07   \n",
      "2   -1.942490e-05  0.000069  1.008573e-06      0.001465  3.062221e-09   \n",
      "3    7.713548e-04  0.031070  1.868650e-05      0.009687  4.485128e-07   \n",
      "4   -4.402254e-04  0.001616  1.070073e-05      0.004059  8.624238e-08   \n",
      "..            ...       ...           ...           ...           ...   \n",
      "145 -3.348161e-04  0.001087  3.195099e-06      0.002022  1.356177e-08   \n",
      "146  5.038090e-05  0.002078  2.451960e-06      0.003593  1.285000e-08   \n",
      "147 -6.771524e-05  0.000152  1.008091e-06      0.001139  3.066333e-09   \n",
      "148  4.906490e-06  0.000105  5.450413e-07      0.000990  1.222920e-09   \n",
      "149  1.139976e-05  0.000187  3.609261e-07      0.000925  6.639309e-10   \n",
      "\n",
      "     zero_crossings  dominant_freq  spectral_energy  spectral_centroid  \\\n",
      "0          0.878984       0.072011     1.066928e-11           0.297466   \n",
      "1          0.979603       0.130776     8.608452e-09           0.123059   \n",
      "2          0.862989       0.157783     1.183842e-10           0.226294   \n",
      "3          0.943583       0.058390     1.828328e-08           0.205336   \n",
      "4          0.565418       0.099545     2.973840e-09           0.324069   \n",
      "..              ...            ...              ...                ...   \n",
      "145        0.150535       0.056451     3.015220e-10           0.323994   \n",
      "146        0.929182       0.035090     5.354776e-10           0.111857   \n",
      "147        0.895500       0.016571     1.258759e-10           0.136362   \n",
      "148        0.896088       0.018218     4.982549e-11           0.171986   \n",
      "149        0.899405       0.009810     2.715605e-11           0.197906   \n",
      "\n",
      "     spectral_bandwidth  spectral_flatness  event  \n",
      "0              0.365670       4.156718e-05      1  \n",
      "1              0.089645       6.664725e-07      0  \n",
      "2              0.423252       2.221428e-05      1  \n",
      "3              0.251035       1.983637e-06      0  \n",
      "4              0.751900       1.590596e-05      1  \n",
      "..                  ...                ...    ...  \n",
      "145            0.932296       3.369628e-05      1  \n",
      "146            0.350513       9.228473e-06      0  \n",
      "147            0.423331       1.759385e-05      1  \n",
      "148            0.408796       2.334908e-05      1  \n",
      "149            0.389624       2.773605e-05      1  \n",
      "\n",
      "[150 rows x 17 columns]\n"
     ]
    }
   ],
   "source": [
    "# Data Transformation\n",
    "\n",
    "#drop event cause I don't want to normalize 0 and 1\n",
    "x = df.drop(columns=\"event\").values\n",
    "\n",
    "normalizer = preprocessing.Normalizer().fit(x)\n",
    "norm_x = normalizer.transform(x)\n",
    "\n",
    "#create the dataframe again with normalized values\n",
    "df_norm = pd.DataFrame(norm_x, columns=df.drop(columns=\"event\").columns)\n",
    "\n",
    "#add the dropped event values\n",
    "df_norm[\"event\"] = df[\"event\"].values\n",
    "\n",
    "print(df_norm)"
   ]
  },
  {
   "cell_type": "code",
   "execution_count": null,
   "metadata": {},
   "outputs": [],
   "source": [
    "# Dataset Splitting\n",
    "from sklearn.model_selection import train_test_split\n",
    "\n",
    "X = df_norm.drop(columns=[\"event\"])\n",
    "Y = df_norm[\"event\"]\n",
    "\n",
    "X_train, X_test, Y_train, Y_test = train_test_split(X, Y, test_size=0.2, train_size=0.8, random_state=42)\n"
   ]
  },
  {
   "cell_type": "markdown",
   "metadata": {},
   "source": [
    "1. Feature extraction: In order to indicate events successfully, it is important to first identify key attributes that correlates to these events.\n",
    "2. Data preprocessing: To get the most realiable model the data needs to be inspected and cleaned. This is done by handling missing values and outliers. Normalizing the data is also common for different things but one is to scale the features to a similar range which gives all the features the same \"chance\".\n",
    "3. Selection of Model: What type of method benefits the specific goal in mind.\n",
    "4. Train: The model algorithm is then ready to be fitted to the training dataset.\n",
    "5. Eval: What type of performance metrics give the best and clear representation of how well it did the job?"
   ]
  }
 ],
 "metadata": {
  "kernelspec": {
   "display_name": "base",
   "language": "python",
   "name": "python3"
  },
  "language_info": {
   "codemirror_mode": {
    "name": "ipython",
    "version": 3
   },
   "file_extension": ".py",
   "mimetype": "text/x-python",
   "name": "python",
   "nbconvert_exporter": "python",
   "pygments_lexer": "ipython3",
   "version": "3.12.3"
  }
 },
 "nbformat": 4,
 "nbformat_minor": 2
}
